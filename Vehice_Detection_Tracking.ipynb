{
 "cells": [
  {
   "cell_type": "code",
   "execution_count": 4,
   "metadata": {},
   "outputs": [
    {
     "name": "stdout",
     "output_type": "stream",
     "text": [
      "11520.0 29.97002997002997 1280 720\n"
     ]
    }
   ],
   "source": [
    "import numpy as np\n",
    "import cv2\n",
    "import pandas as pd\n",
    "\n",
    "cap = cv2.VideoCapture(\"SampleVideoForTesting.mp4\")\n",
    "frames_count, fps, width, height = cap.get(cv2.CAP_PROP_FRAME_COUNT), cap.get(cv2.CAP_PROP_FPS), cap.get(\n",
    "    cv2.CAP_PROP_FRAME_WIDTH), cap.get(cv2.CAP_PROP_FRAME_HEIGHT)\n",
    "\n",
    "width = int(width)\n",
    "height = int(height)\n",
    "print(frames_count, fps, width, height)\n",
    "\n",
    "  \n",
    "sub = cv2.createBackgroundSubtractorMOG2()  # create background subtractor\n",
    "# information to start saving a video file\n",
    "ret, frame = cap.read()  # import image\n",
    "ratio = 1.0  # resize ratio\n",
    "image = cv2.resize(frame, (0, 0), None, ratio, ratio)  # resize image\n",
    "width2, height2, channels = image.shape\n",
    "#video = cv2.VideoWriter('traffic_counter.avi', cv2.VideoWriter_fourcc('M', 'J', 'P', 'G'), fps, (height2, width2), 1)\n",
    "\n",
    "while True:\n",
    "    ret, frame = cap.read()  # import image\n",
    "    if not ret: #if vid finish repeat\n",
    "        frame = cv2.VideoCapture(\"A3 A-road Traffic UK HD - rush hour - British Highway traffic May 2017.mp4\")\n",
    "        continue\n",
    "    if ret:  # if there is a frame continue with code\n",
    "        image = cv2.resize(frame, (0, 0), None, ratio, ratio)  # resize image\n",
    "        cv2.imshow(\"image\", image) #@\n",
    "        gray = cv2.cvtColor(image, cv2.COLOR_BGR2GRAY)  # converts image to gray\n",
    "        #cv2.imshow(\"gray\", gray) #@\n",
    "        fgmask = sub.apply(gray)  # uses the background subtraction\n",
    "        #cv2.imshow(\"fgmask\", fgmask) #@\n",
    "        # applies different thresholds to fgmask to try and isolate cars\n",
    "        # just have to keep playing around with settings until cars are easily identifiable\n",
    "        kernel = cv2.getStructuringElement(cv2.MORPH_ELLIPSE, (5, 5))  # kernel to apply to the morphology\n",
    "        closing = cv2.morphologyEx(fgmask, cv2.MORPH_CLOSE, kernel)\n",
    "        #cv2.imshow(\"closing\", closing) #@\n",
    "        opening = cv2.morphologyEx(closing, cv2.MORPH_OPEN, kernel)\n",
    "        #cv2.imshow(\"opening\", opening) #@\n",
    "        dilation = cv2.dilate(opening, kernel)\n",
    "        cv2.imshow(\"dilation\", dilation) #@\n",
    "        retvalbin, bins = cv2.threshold(dilation, 220, 255, cv2.THRESH_BINARY)  # removes the shadows\n",
    "        #cv2.imshow(\"retvalbin\", retvalbin) #@\n",
    "        # creates contours\n",
    "        # cv2.imshow('bins',bins)\n",
    "        contours, hierarchy = cv2.findContours(bins, cv2.RETR_EXTERNAL, cv2.CHAIN_APPROX_SIMPLE)\n",
    "\n",
    "        minarea = 400\n",
    "        # max area for contours, can be quite large for buses\n",
    "        maxarea = 50000\n",
    "        # vectors for the x and y locations of contour centroids in current frame\n",
    "        cxx = np.zeros(len(contours))\n",
    "        cyy = np.zeros(len(contours))\n",
    "        \n",
    "        for i in range(len(contours)):  # cycles through all contours in current frame\n",
    "            if hierarchy[0, i, 3] == -1:  # using hierarchy to only count parent contours (contours not within others)\n",
    "                area = cv2.contourArea(contours[i])  # area of contour\n",
    "                if minarea < area < maxarea:  # area threshold for contour\n",
    "                    # calculating centroids of contours\n",
    "                    cnt = contours[i]\n",
    "                    M = cv2.moments(cnt)\n",
    "                    cx = int(M['m10'] / M['m00'])\n",
    "                    cy = int(M['m01'] / M['m00'])\n",
    "                    \n",
    "                    # gets bounding points of contour to create rectangle\n",
    "                    # x,y is top left corner and w,h is width and height\n",
    "                    x, y, w, h = cv2.boundingRect(cnt)\n",
    "                    # creates a rectangle around contour\n",
    "                    cv2.rectangle(image, (x, y), (x + w, y + h), (0, 255, 0), 2)\n",
    "                    # Prints centroid text in order to double check later on\n",
    "                    cv2.putText(image, str(cx) + \",\" + str(cy), (cx + 10, cy + 10), cv2.FONT_HERSHEY_SIMPLEX,.3, (0, 0, 255), 1)\n",
    "                    cv2.drawMarker(image, (cx, cy), (0, 255, 255), cv2.MARKER_CROSS, markerSize=8, thickness=3,line_type=cv2.LINE_8)\n",
    "    cv2.imshow(\"Final_Detected\", image)\n",
    "    key = cv2.waitKey(20)\n",
    "    if key == 27:\n",
    "       break\n",
    "\n",
    "cap.release()\n",
    "cv2.destroyAllWindows()"
   ]
  },
  {
   "cell_type": "code",
   "execution_count": null,
   "metadata": {},
   "outputs": [],
   "source": []
  }
 ],
 "metadata": {
  "kernelspec": {
   "display_name": "Python 3",
   "language": "python",
   "name": "python3"
  },
  "language_info": {
   "codemirror_mode": {
    "name": "ipython",
    "version": 3
   },
   "file_extension": ".py",
   "mimetype": "text/x-python",
   "name": "python",
   "nbconvert_exporter": "python",
   "pygments_lexer": "ipython3",
   "version": "3.7.6"
  }
 },
 "nbformat": 4,
 "nbformat_minor": 4
}
